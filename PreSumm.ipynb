{
 "cells": [
  {
   "cell_type": "markdown",
   "metadata": {},
   "source": [
    "# PreSumm Sandbox"
   ]
  },
  {
   "cell_type": "markdown",
   "metadata": {},
   "source": [
    "## Setup"
   ]
  },
  {
   "cell_type": "markdown",
   "metadata": {},
   "source": [
    "Download the models and install them in the `models` directory similar to what was described in the \"PreSummTextSummarizationwithPretrainedEncoders_Inference\" notebook:\n",
    "```\n",
    "!gdown https://drive.google.com/uc?id=1kKWoV0QCbeIuFt85beQgJ4v0lujaXobJ&export=download #CNN/DM Extractive bertext_cnndm_transformer.pt\n",
    "!gdown https://drive.google.com/uc?id=1-IKVCtc4Q-BdZpjXc4s70_fRsWnjtYLr&export=download #CNN/DM Abstractive model_step_148000.pt \n",
    "!gdown https://drive.google.com/uc?id=1H50fClyTkNprWJNh10HWdGEdDdQIkzsI&export=download #XSUM (One Sentence Summary) model_step_30000.pt   \n",
    "!unzip /content/PreSumm/models/bertext_cnndm_transformer.zip\n",
    "!unzip /content/PreSumm/models/bertsumextabs_cnndm_final_model.zip\n",
    "!unzip /content/PreSumm/models/bertsumextabs_xsum_final_model.zip\n",
    "!mkdir /content/PreSumm/models/CNN_DailyMail_Extractive\n",
    "!mkdir /content/PreSumm/models/CNN_DailyMail_Abstractive\n",
    "!mkdir /content/PreSumm/models/XSUM_OneSentence\n",
    "!mv /content/PreSumm/models/bertext_cnndm_transformer.pt /content/PreSumm/models/CNN_DailyMail_Extractive\n",
    "!mv /content/PreSumm/models/model_step_148000.pt /content/PreSumm/models/CNN_DailyMail_Abstractive\n",
    "!mv /content/PreSumm/models/model_step_30000.pt /content/PreSumm/models/XSUM_OneSentence\n",
    "```"
   ]
  },
  {
   "cell_type": "markdown",
   "metadata": {},
   "source": [
    "Create a new anaconda environment from the environment.yml file, activate the environment and run jupyter:\n",
    "```\n",
    "$ conda env create --file environment.yml\n",
    "$ conda activate presumm\n",
    "$ jupyter notebook .\n",
    "```"
   ]
  },
  {
   "cell_type": "code",
   "execution_count": 1,
   "metadata": {
    "ExecuteTime": {
     "end_time": "2020-04-24T16:15:20.861314Z",
     "start_time": "2020-04-24T16:15:20.848432Z"
    }
   },
   "outputs": [
    {
     "data": {
      "text/html": [
       "<style>.container { width:75% !important; }</style>"
      ],
      "text/plain": [
       "<IPython.core.display.HTML object>"
      ]
     },
     "metadata": {},
     "output_type": "display_data"
    }
   ],
   "source": [
    "from IPython.core.display import display as core_display, HTML\n",
    "core_display(HTML(\"<style>.container { width:75% !important; }</style>\"))"
   ]
  },
  {
   "cell_type": "code",
   "execution_count": 2,
   "metadata": {
    "ExecuteTime": {
     "end_time": "2020-04-24T16:15:20.868664Z",
     "start_time": "2020-04-24T16:15:20.863703Z"
    }
   },
   "outputs": [
    {
     "name": "stdout",
     "output_type": "stream",
     "text": [
      "/Users/jim.crotinger/git/github/nlp/PreSumm/src\n"
     ]
    }
   ],
   "source": [
    "%cd src"
   ]
  },
  {
   "cell_type": "code",
   "execution_count": 3,
   "metadata": {
    "ExecuteTime": {
     "end_time": "2020-04-24T16:15:20.999998Z",
     "start_time": "2020-04-24T16:15:20.871333Z"
    }
   },
   "outputs": [
    {
     "name": "stdout",
     "output_type": "stream",
     "text": [
      "\u001b[34m__pycache__\u001b[m\u001b[m          distributed.py       post_stats.py        train.py             \u001b[34mtranslate\u001b[m\u001b[m\r\n",
      "cal_rouge.py         \u001b[34mmodels\u001b[m\u001b[m               \u001b[34mprepro\u001b[m\u001b[m               train_abstractive.py\r\n",
      "default.profraw      \u001b[34mothers\u001b[m\u001b[m               preprocess.py        train_extractive.py\r\n"
     ]
    }
   ],
   "source": [
    "!ls"
   ]
  },
  {
   "cell_type": "markdown",
   "metadata": {},
   "source": [
    "## Arguments to `train.py`"
   ]
  },
  {
   "cell_type": "code",
   "execution_count": 4,
   "metadata": {
    "ExecuteTime": {
     "end_time": "2020-04-24T16:15:22.021708Z",
     "start_time": "2020-04-24T16:15:21.003787Z"
    }
   },
   "outputs": [
    {
     "name": "stdout",
     "output_type": "stream",
     "text": [
      "usage: train.py [-h] [-task {ext,abs}] [-encoder {bert,baseline}] [-mode {train,validate,test,test_text}]\r\n",
      "                [-bert_data_path BERT_DATA_PATH] [-model_path MODEL_PATH] [-result_path RESULT_PATH] [-temp_dir TEMP_DIR]\r\n",
      "                [-text_src TEXT_SRC] [-text_tgt TEXT_TGT] [-batch_size BATCH_SIZE] [-test_batch_size TEST_BATCH_SIZE]\r\n",
      "                [-max_ndocs_in_batch MAX_NDOCS_IN_BATCH] [-max_pos MAX_POS] [-use_interval [USE_INTERVAL]] [-large [LARGE]]\r\n",
      "                [-load_from_extractive LOAD_FROM_EXTRACTIVE] [-sep_optim [SEP_OPTIM]] [-lr_bert LR_BERT] [-lr_dec LR_DEC]\r\n",
      "                [-use_bert_emb [USE_BERT_EMB]] [-share_emb [SHARE_EMB]] [-finetune_bert [FINETUNE_BERT]]\r\n",
      "                [-dec_dropout DEC_DROPOUT] [-dec_layers DEC_LAYERS] [-dec_hidden_size DEC_HIDDEN_SIZE]\r\n",
      "                [-dec_heads DEC_HEADS] [-dec_ff_size DEC_FF_SIZE] [-enc_hidden_size ENC_HIDDEN_SIZE]\r\n",
      "                [-enc_ff_size ENC_FF_SIZE] [-enc_dropout ENC_DROPOUT] [-enc_layers ENC_LAYERS] [-ext_dropout EXT_DROPOUT]\r\n",
      "                [-ext_layers EXT_LAYERS] [-ext_hidden_size EXT_HIDDEN_SIZE] [-ext_heads EXT_HEADS]\r\n",
      "                [-ext_ff_size EXT_FF_SIZE] [-label_smoothing LABEL_SMOOTHING] [-generator_shard_size GENERATOR_SHARD_SIZE]\r\n",
      "                [-alpha ALPHA] [-beam_size BEAM_SIZE] [-min_length MIN_LENGTH] [-max_length MAX_LENGTH]\r\n",
      "                [-max_tgt_len MAX_TGT_LEN] [-param_init PARAM_INIT] [-param_init_glorot [PARAM_INIT_GLOROT]] [-optim OPTIM]\r\n",
      "                [-lr LR] [-beta1 BETA1] [-beta2 BETA2] [-warmup_steps WARMUP_STEPS] [-warmup_steps_bert WARMUP_STEPS_BERT]\r\n",
      "                [-warmup_steps_dec WARMUP_STEPS_DEC] [-max_grad_norm MAX_GRAD_NORM]\r\n",
      "                [-save_checkpoint_steps SAVE_CHECKPOINT_STEPS] [-accum_count ACCUM_COUNT] [-report_every REPORT_EVERY]\r\n",
      "                [-train_steps TRAIN_STEPS] [-recall_eval [RECALL_EVAL]] [-visible_gpus VISIBLE_GPUS] [-gpu_ranks GPU_RANKS]\r\n",
      "                [-log_file LOG_FILE] [-seed SEED] [-test_all [TEST_ALL]] [-test_from TEST_FROM]\r\n",
      "                [-test_start_from TEST_START_FROM] [-train_from TRAIN_FROM] [-report_rouge [REPORT_ROUGE]]\r\n",
      "                [-block_trigram [BLOCK_TRIGRAM]]\r\n",
      "\r\n",
      "optional arguments:\r\n",
      "  -h, --help            show this help message and exit\r\n",
      "  -task {ext,abs}\r\n",
      "  -encoder {bert,baseline}\r\n",
      "  -mode {train,validate,test,test_text}\r\n",
      "  -bert_data_path BERT_DATA_PATH\r\n",
      "  -model_path MODEL_PATH\r\n",
      "  -result_path RESULT_PATH\r\n",
      "  -temp_dir TEMP_DIR\r\n",
      "  -text_src TEXT_SRC\r\n",
      "  -text_tgt TEXT_TGT\r\n",
      "  -batch_size BATCH_SIZE\r\n",
      "  -test_batch_size TEST_BATCH_SIZE\r\n",
      "  -max_ndocs_in_batch MAX_NDOCS_IN_BATCH\r\n",
      "  -max_pos MAX_POS\r\n",
      "  -use_interval [USE_INTERVAL]\r\n",
      "  -large [LARGE]\r\n",
      "  -load_from_extractive LOAD_FROM_EXTRACTIVE\r\n",
      "  -sep_optim [SEP_OPTIM]\r\n",
      "  -lr_bert LR_BERT\r\n",
      "  -lr_dec LR_DEC\r\n",
      "  -use_bert_emb [USE_BERT_EMB]\r\n",
      "  -share_emb [SHARE_EMB]\r\n",
      "  -finetune_bert [FINETUNE_BERT]\r\n",
      "  -dec_dropout DEC_DROPOUT\r\n",
      "  -dec_layers DEC_LAYERS\r\n",
      "  -dec_hidden_size DEC_HIDDEN_SIZE\r\n",
      "  -dec_heads DEC_HEADS\r\n",
      "  -dec_ff_size DEC_FF_SIZE\r\n",
      "  -enc_hidden_size ENC_HIDDEN_SIZE\r\n",
      "  -enc_ff_size ENC_FF_SIZE\r\n",
      "  -enc_dropout ENC_DROPOUT\r\n",
      "  -enc_layers ENC_LAYERS\r\n",
      "  -ext_dropout EXT_DROPOUT\r\n",
      "  -ext_layers EXT_LAYERS\r\n",
      "  -ext_hidden_size EXT_HIDDEN_SIZE\r\n",
      "  -ext_heads EXT_HEADS\r\n",
      "  -ext_ff_size EXT_FF_SIZE\r\n",
      "  -label_smoothing LABEL_SMOOTHING\r\n",
      "  -generator_shard_size GENERATOR_SHARD_SIZE\r\n",
      "  -alpha ALPHA\r\n",
      "  -beam_size BEAM_SIZE\r\n",
      "  -min_length MIN_LENGTH\r\n",
      "  -max_length MAX_LENGTH\r\n",
      "  -max_tgt_len MAX_TGT_LEN\r\n",
      "  -param_init PARAM_INIT\r\n",
      "  -param_init_glorot [PARAM_INIT_GLOROT]\r\n",
      "  -optim OPTIM\r\n",
      "  -lr LR\r\n",
      "  -beta1 BETA1\r\n",
      "  -beta2 BETA2\r\n",
      "  -warmup_steps WARMUP_STEPS\r\n",
      "  -warmup_steps_bert WARMUP_STEPS_BERT\r\n",
      "  -warmup_steps_dec WARMUP_STEPS_DEC\r\n",
      "  -max_grad_norm MAX_GRAD_NORM\r\n",
      "  -save_checkpoint_steps SAVE_CHECKPOINT_STEPS\r\n",
      "  -accum_count ACCUM_COUNT\r\n",
      "  -report_every REPORT_EVERY\r\n",
      "  -train_steps TRAIN_STEPS\r\n",
      "  -recall_eval [RECALL_EVAL]\r\n",
      "  -visible_gpus VISIBLE_GPUS\r\n",
      "  -gpu_ranks GPU_RANKS\r\n",
      "  -log_file LOG_FILE\r\n",
      "  -seed SEED\r\n",
      "  -test_all [TEST_ALL]\r\n",
      "  -test_from TEST_FROM\r\n",
      "  -test_start_from TEST_START_FROM\r\n",
      "  -train_from TRAIN_FROM\r\n",
      "  -report_rouge [REPORT_ROUGE]\r\n",
      "  -block_trigram [BLOCK_TRIGRAM]\r\n"
     ]
    }
   ],
   "source": [
    "!python train.py -h"
   ]
  },
  {
   "cell_type": "markdown",
   "metadata": {},
   "source": [
    "## Run Abstractive Summary on test file"
   ]
  },
  {
   "cell_type": "code",
   "execution_count": 5,
   "metadata": {
    "ExecuteTime": {
     "end_time": "2020-04-24T16:15:22.028186Z",
     "start_time": "2020-04-24T16:15:22.023936Z"
    }
   },
   "outputs": [],
   "source": [
    "mode = \"test_text\"\n",
    "task = \"abs\"\n",
    "test_from = \"../models/CNN_DailyMail_Abstractive/model_step_148000.pt\"\n",
    "\n",
    "# I've added a couple of stories to the test stories that are checked in. You can change these to just use `temp.raw_src` instead.\n",
    "\n",
    "text_source = \"../raw_data/test_stories\"\n",
    "result_path = \"../results/test_stories\"\n",
    "\n",
    "log_file = \"../logs/val_abs_bert_raw_test\"\n",
    "std_args = \"-batch_size 32 -test_batch_size 500 -report_rouge False -sep_optim true -use_interval true \" + \\\n",
    "        \"-visible_gpus -1 -max_pos 512  -max_length 200 -alpha 0.95 -min_length 50\" # -max_src_nsents 100"
   ]
  },
  {
   "cell_type": "code",
   "execution_count": 6,
   "metadata": {
    "ExecuteTime": {
     "end_time": "2020-04-24T16:15:22.157608Z",
     "start_time": "2020-04-24T16:15:22.030450Z"
    }
   },
   "outputs": [
    {
     "name": "stdout",
     "output_type": "stream",
     "text": [
      "train.py -task abs -mode test_text -text_src ../raw_data/test_stories -test_from ../models/CNN_DailyMail_Abstractive/model_step_148000.pt -log_file ../logs/val_abs_bert_raw_test -result_path ../results/test_stories -batch_size 32 -test_batch_size 500 -report_rouge False -sep_optim true -use_interval true -visible_gpus -1 -max_pos 512 -max_length 200 -alpha 0.95 -min_length 50\r\n"
     ]
    }
   ],
   "source": [
    "!echo train.py -task {task} -mode {mode} -text_src {text_source} -test_from {test_from} -log_file {log_file} -result_path {result_path} {std_args}"
   ]
  },
  {
   "cell_type": "code",
   "execution_count": 7,
   "metadata": {
    "ExecuteTime": {
     "end_time": "2020-04-24T16:15:55.302627Z",
     "start_time": "2020-04-24T16:15:22.161364Z"
    }
   },
   "outputs": [
    {
     "name": "stdout",
     "output_type": "stream",
     "text": [
      "[2020-04-24 09:15:22,939 INFO] Loading checkpoint from ../models/CNN_DailyMail_Abstractive/model_step_148000.pt\n",
      "Namespace(accum_count=1, alpha=0.6, batch_size=140, beam_size=5, bert_data_path='../bert_data_new/cnndm', beta1=0.9, beta2=0.999, block_trigram=True, dec_dropout=0.2, dec_ff_size=2048, dec_heads=8, dec_hidden_size=768, dec_layers=6, enc_dropout=0.2, enc_ff_size=512, enc_hidden_size=512, enc_layers=6, encoder='bert', ext_dropout=0.2, ext_ff_size=2048, ext_heads=8, ext_hidden_size=768, ext_layers=2, finetune_bert=True, generator_shard_size=32, gpu_ranks=[0], label_smoothing=0.1, large=False, load_from_extractive='', log_file='../logs/val_abs_bert_raw_test', lr=1, lr_bert=0.002, lr_dec=0.002, max_grad_norm=0, max_length=150, max_ndocs_in_batch=6, max_pos=512, max_tgt_len=140, min_length=15, mode='test_text', model_path='../models/', optim='adam', param_init=0, param_init_glorot=True, recall_eval=False, report_every=1, report_rouge=True, result_path='../results/test_stories', save_checkpoint_steps=5, seed=666, sep_optim=False, share_emb=False, task='abs', temp_dir='../temp', test_all=False, test_batch_size=200, test_from='../models/CNN_DailyMail_Abstractive/model_step_148000.pt', test_start_from=-1, text_src='../raw_data/test_stories', text_tgt='', train_from='', train_steps=1000, use_bert_emb=False, use_interval=True, visible_gpus='-1', warmup_steps=8000, warmup_steps_bert=8000, warmup_steps_dec=8000, world_size=1)\n",
      "[2020-04-24 09:15:26,424 INFO] loading configuration file https://s3.amazonaws.com/models.huggingface.co/bert/bert-base-uncased-config.json from cache at ../temp/4dad0251492946e18ac39290fcfe91b89d370fee250efe9521476438fe8ca185.7156163d5fdc189c3016baca0775ffce230789d7fa2a42ef516483e4ca884517\n",
      "[2020-04-24 09:15:26,426 INFO] Model config {\n",
      "  \"architectures\": [\n",
      "    \"BertForMaskedLM\"\n",
      "  ],\n",
      "  \"attention_probs_dropout_prob\": 0.1,\n",
      "  \"finetuning_task\": null,\n",
      "  \"hidden_act\": \"gelu\",\n",
      "  \"hidden_dropout_prob\": 0.1,\n",
      "  \"hidden_size\": 768,\n",
      "  \"initializer_range\": 0.02,\n",
      "  \"intermediate_size\": 3072,\n",
      "  \"layer_norm_eps\": 1e-12,\n",
      "  \"max_position_embeddings\": 512,\n",
      "  \"model_type\": \"bert\",\n",
      "  \"num_attention_heads\": 12,\n",
      "  \"num_hidden_layers\": 12,\n",
      "  \"num_labels\": 2,\n",
      "  \"output_attentions\": false,\n",
      "  \"output_hidden_states\": false,\n",
      "  \"pad_token_id\": 0,\n",
      "  \"pruned_heads\": {},\n",
      "  \"torchscript\": false,\n",
      "  \"type_vocab_size\": 2,\n",
      "  \"vocab_size\": 30522\n",
      "}\n",
      "\n",
      "[2020-04-24 09:15:26,836 INFO] loading weights file https://s3.amazonaws.com/models.huggingface.co/bert/bert-base-uncased-pytorch_model.bin from cache at ../temp/aa1ef1aede4482d0dbcd4d52baad8ae300e60902e88fcb0bebdec09afd232066.36ca03ab34a1a5d5fa7bc3d03d55c4fa650fed07220e2eeebc06ce58d0e9a157\n",
      "[2020-04-24 09:15:32,961 INFO] loading file https://s3.amazonaws.com/models.huggingface.co/bert/bert-base-uncased-vocab.txt from cache at ../temp/26bc1ad6c0ac742e9b52263248f6d0f00068293b33709fae12320c0e35ccfbbb.542ce4285a40d23a559526243235df47c5f75c197f04f37d1a0c124c32c9a084\n",
      "[2020-04-24 09:15:34,008 INFO] loading vocabulary file https://s3.amazonaws.com/models.huggingface.co/bert/bert-base-uncased-vocab.txt from cache at /Users/jim.crotinger/.cache/torch/pytorch_transformers/26bc1ad6c0ac742e9b52263248f6d0f00068293b33709fae12320c0e35ccfbbb.542ce4285a40d23a559526243235df47c5f75c197f04f37d1a0c124c32c9a084\n",
      "100%|█████████████████████████████████████████████| 4/4 [00:20<00:00,  5.14s/it]\n"
     ]
    }
   ],
   "source": [
    "!python train.py -task {task} -mode {mode} -text_src {text_source} -test_from {test_from} -log_file {log_file} -result_path {result_path} # {std_args}"
   ]
  },
  {
   "cell_type": "code",
   "execution_count": 8,
   "metadata": {
    "ExecuteTime": {
     "end_time": "2020-04-24T16:15:55.337502Z",
     "start_time": "2020-04-24T16:15:55.309657Z"
    }
   },
   "outputs": [
    {
     "name": "stdout",
     "output_type": "stream",
     "text": [
      "terry jones ' style of visual comedy inspired many comedians who followed him<q>it was on python that he honed his directing skills<q>he wrote a number of books and fronted tv documentaries on ancient and medieval history\n",
      "\n",
      "\n",
      "shohreh bayat says she is frightened to return home after she was criticized online for not wearing the appropriate headscarf<q>currently the chief adjudicator at the women 's world chess championship held in russia and china\n",
      "\n",
      "\n",
      "bitcoin priced in usd on mt. goxabove is gox price as of nearly9:30 pm (gmt+2) ) still above the previous low<q>but dipping below the 38.2- retracement level\n",
      "\n",
      "\n",
      "officials viewed the emergency rate cut they approved earlier this week as part of an international push to cushion the economy as the coronavirus threatens global growth\n",
      "\n",
      "\n"
     ]
    }
   ],
   "source": [
    "results = !cat ../results/test_stories.-1.candidate\n",
    "for line in results:\n",
    "    print(line + '\\n\\n')"
   ]
  },
  {
   "cell_type": "code",
   "execution_count": 9,
   "metadata": {
    "ExecuteTime": {
     "end_time": "2020-04-24T16:15:55.344829Z",
     "start_time": "2020-04-24T16:15:55.340842Z"
    }
   },
   "outputs": [],
   "source": [
    "mode = \"test_text\"\n",
    "task = \"abs\"\n",
    "test_from = \"../models/CNN_DailyMail_TransformerAbs/cnndm_baseline_best.pt\"\n",
    "\n",
    "# I've added a couple of stories to the test stories that are checked in. You can change these to just use `temp.raw_src` instead.\n",
    "\n",
    "text_source = \"../raw_data/test_stories\"\n",
    "result_path = \"../results/test_stories_bb\"\n",
    "\n",
    "log_file = \"../logs/val_abs_bert_raw_test\"\n",
    "std_args = \"-batch_size 32 -test_batch_size 500 -report_rouge False -sep_optim true -use_interval true \" + \\\n",
    "        \"-visible_gpus -1 -max_pos 512  -max_length 200 -alpha 0.95 -min_length 50\" # -max_src_nsents 100"
   ]
  },
  {
   "cell_type": "code",
   "execution_count": 10,
   "metadata": {
    "ExecuteTime": {
     "end_time": "2020-04-24T16:16:28.731899Z",
     "start_time": "2020-04-24T16:15:55.346788Z"
    }
   },
   "outputs": [
    {
     "name": "stdout",
     "output_type": "stream",
     "text": [
      "[2020-04-24 09:15:56,448 INFO] Loading checkpoint from ../models/CNN_DailyMail_TransformerAbs/cnndm_baseline_best.pt\n",
      "Namespace(accum_count=1, alpha=0.6, batch_size=140, beam_size=5, bert_data_path='../bert_data_new/cnndm', beta1=0.9, beta2=0.999, block_trigram=True, dec_dropout=0.2, dec_ff_size=2048, dec_heads=8, dec_hidden_size=512, dec_layers=6, enc_dropout=0.2, enc_ff_size=2048, enc_hidden_size=512, enc_layers=6, encoder='baseline', ext_dropout=0.2, ext_ff_size=2048, ext_heads=8, ext_hidden_size=768, ext_layers=2, finetune_bert=True, generator_shard_size=32, gpu_ranks=[0], label_smoothing=0.1, large=False, load_from_extractive='', log_file='../logs/val_abs_bert_raw_test', lr=1, lr_bert=0.002, lr_dec=0.002, max_grad_norm=0, max_length=150, max_ndocs_in_batch=6, max_pos=512, max_tgt_len=140, min_length=15, mode='test_text', model_path='../models/', optim='adam', param_init=0, param_init_glorot=True, recall_eval=False, report_every=1, report_rouge=True, result_path='../results/test_stories_bb', save_checkpoint_steps=5, seed=666, sep_optim=False, share_emb=False, task='abs', temp_dir='../temp', test_all=False, test_batch_size=200, test_from='../models/CNN_DailyMail_TransformerAbs/cnndm_baseline_best.pt', test_start_from=-1, text_src='../raw_data/test_stories', text_tgt='', train_from='', train_steps=1000, use_bert_emb=False, use_interval=True, visible_gpus='-1', warmup_steps=8000, warmup_steps_bert=8000, warmup_steps_dec=8000, world_size=1)\n",
      "[2020-04-24 09:15:57,596 INFO] loading configuration file https://s3.amazonaws.com/models.huggingface.co/bert/bert-base-uncased-config.json from cache at ../temp/4dad0251492946e18ac39290fcfe91b89d370fee250efe9521476438fe8ca185.7156163d5fdc189c3016baca0775ffce230789d7fa2a42ef516483e4ca884517\n",
      "[2020-04-24 09:15:57,597 INFO] Model config {\n",
      "  \"architectures\": [\n",
      "    \"BertForMaskedLM\"\n",
      "  ],\n",
      "  \"attention_probs_dropout_prob\": 0.1,\n",
      "  \"finetuning_task\": null,\n",
      "  \"hidden_act\": \"gelu\",\n",
      "  \"hidden_dropout_prob\": 0.1,\n",
      "  \"hidden_size\": 768,\n",
      "  \"initializer_range\": 0.02,\n",
      "  \"intermediate_size\": 3072,\n",
      "  \"layer_norm_eps\": 1e-12,\n",
      "  \"max_position_embeddings\": 512,\n",
      "  \"model_type\": \"bert\",\n",
      "  \"num_attention_heads\": 12,\n",
      "  \"num_hidden_layers\": 12,\n",
      "  \"num_labels\": 2,\n",
      "  \"output_attentions\": false,\n",
      "  \"output_hidden_states\": false,\n",
      "  \"pad_token_id\": 0,\n",
      "  \"pruned_heads\": {},\n",
      "  \"torchscript\": false,\n",
      "  \"type_vocab_size\": 2,\n",
      "  \"vocab_size\": 30522\n",
      "}\n",
      "\n",
      "[2020-04-24 09:15:57,992 INFO] loading weights file https://s3.amazonaws.com/models.huggingface.co/bert/bert-base-uncased-pytorch_model.bin from cache at ../temp/aa1ef1aede4482d0dbcd4d52baad8ae300e60902e88fcb0bebdec09afd232066.36ca03ab34a1a5d5fa7bc3d03d55c4fa650fed07220e2eeebc06ce58d0e9a157\n",
      "[2020-04-24 09:16:02,849 INFO] loading file https://s3.amazonaws.com/models.huggingface.co/bert/bert-base-uncased-vocab.txt from cache at ../temp/26bc1ad6c0ac742e9b52263248f6d0f00068293b33709fae12320c0e35ccfbbb.542ce4285a40d23a559526243235df47c5f75c197f04f37d1a0c124c32c9a084\n",
      "[2020-04-24 09:16:03,356 INFO] loading vocabulary file https://s3.amazonaws.com/models.huggingface.co/bert/bert-base-uncased-vocab.txt from cache at /Users/jim.crotinger/.cache/torch/pytorch_transformers/26bc1ad6c0ac742e9b52263248f6d0f00068293b33709fae12320c0e35ccfbbb.542ce4285a40d23a559526243235df47c5f75c197f04f37d1a0c124c32c9a084\n",
      "100%|█████████████████████████████████████████████| 4/4 [00:24<00:00,  6.24s/it]\n"
     ]
    }
   ],
   "source": [
    "!python train.py -task {task} -mode {mode} -text_src {text_source} -test_from {test_from} -log_file {log_file} -result_path {result_path} # {std_args}"
   ]
  },
  {
   "cell_type": "code",
   "execution_count": 11,
   "metadata": {
    "ExecuteTime": {
     "end_time": "2020-04-24T16:16:28.754863Z",
     "start_time": "2020-04-24T16:16:28.735169Z"
    }
   },
   "outputs": [
    {
     "name": "stdout",
     "output_type": "stream",
     "text": [
      "terry jones ' style of visual comedy inspired many comedians who followed him<q>it was on python that he honed his directing skills<q>he wrote a number of books and fronted tv documentaries on ancient and medieval history\n",
      "\n",
      "\n",
      "shohreh bayat says she is frightened to return home after she was criticized online for not wearing the appropriate headscarf<q>currently the chief adjudicator at the women 's world chess championship held in russia and china\n",
      "\n",
      "\n",
      "bitcoin priced in usd on mt. goxabove is gox price as of nearly9:30 pm (gmt+2) ) still above the previous low<q>but dipping below the 38.2- retracement level\n",
      "\n",
      "\n",
      "officials viewed the emergency rate cut they approved earlier this week as part of an international push to cushion the economy as the coronavirus threatens global growth\n",
      "\n",
      "\n"
     ]
    }
   ],
   "source": [
    "results = !cat ../results/test_stories.-1.candidate\n",
    "for line in results:\n",
    "    print(line + '\\n\\n')"
   ]
  },
  {
   "cell_type": "markdown",
   "metadata": {},
   "source": [
    "## Run Extractive Summary on test file"
   ]
  },
  {
   "cell_type": "code",
   "execution_count": 12,
   "metadata": {
    "ExecuteTime": {
     "end_time": "2020-04-24T16:16:28.761893Z",
     "start_time": "2020-04-24T16:16:28.757204Z"
    }
   },
   "outputs": [],
   "source": [
    "mode = \"test_text\"\n",
    "task = \"ext\"\n",
    "test_from = \"../models/CNN_DailyMail_Extractive/bertext_cnndm_transformer.pt\"\n",
    "\n",
    "# Annotated test data - haven't done this for the new stories I added...\n",
    "\n",
    "text_source = \"../raw_data/temp_ext.raw_src\"\n",
    "result_path = \"../results/temp_ext.raw\"\n",
    "\n",
    "log_file = \"../logs/val_abs_bert_raw_test\"\n",
    "std_args = \"-batch_size 32 -test_batch_size 500 -report_rouge False -sep_optim true -use_interval true \" + \\\n",
    "        \"-visible_gpus -1 -max_pos 512  -max_length 200 -alpha 0.95 -min_length 50\" # -max_src_nsents 100"
   ]
  },
  {
   "cell_type": "code",
   "execution_count": 13,
   "metadata": {
    "ExecuteTime": {
     "end_time": "2020-04-24T16:16:35.765366Z",
     "start_time": "2020-04-24T16:16:28.763737Z"
    },
    "scrolled": false
   },
   "outputs": [
    {
     "name": "stdout",
     "output_type": "stream",
     "text": [
      "[2020-04-24 09:16:29,572 INFO] Loading checkpoint from ../models/CNN_DailyMail_Extractive/bertext_cnndm_transformer.pt\n",
      "Namespace(accum_count=1, alpha=0.6, batch_size=140, beam_size=5, bert_data_path='../bert_data_new/cnndm', beta1=0.9, beta2=0.999, block_trigram=True, dec_dropout=0.2, dec_ff_size=2048, dec_heads=8, dec_hidden_size=768, dec_layers=6, enc_dropout=0.2, enc_ff_size=512, enc_hidden_size=512, enc_layers=6, encoder='bert', ext_dropout=0.2, ext_ff_size=2048, ext_heads=8, ext_hidden_size=768, ext_layers=2, finetune_bert=True, generator_shard_size=32, gpu_ranks=[0], label_smoothing=0.1, large=False, load_from_extractive='', log_file='../logs/val_abs_bert_raw_test', lr=1, lr_bert=0.002, lr_dec=0.002, max_grad_norm=0, max_length=150, max_ndocs_in_batch=6, max_pos=512, max_tgt_len=140, min_length=15, mode='test_text', model_path='../models/', optim='adam', param_init=0, param_init_glorot=True, recall_eval=False, report_every=1, report_rouge=True, result_path='../results/temp_ext.raw', save_checkpoint_steps=5, seed=666, sep_optim=False, share_emb=False, task='ext', temp_dir='../temp', test_all=False, test_batch_size=200, test_from='../models/CNN_DailyMail_Extractive/bertext_cnndm_transformer.pt', test_start_from=-1, text_src='../raw_data/temp_ext.raw_src', text_tgt='', train_from='', train_steps=1000, use_bert_emb=False, use_interval=True, visible_gpus='-1', warmup_steps=8000, warmup_steps_bert=8000, warmup_steps_dec=8000, world_size=1)\n",
      "[2020-04-24 09:16:31,045 INFO] loading configuration file https://s3.amazonaws.com/models.huggingface.co/bert/bert-base-uncased-config.json from cache at ../temp/4dad0251492946e18ac39290fcfe91b89d370fee250efe9521476438fe8ca185.7156163d5fdc189c3016baca0775ffce230789d7fa2a42ef516483e4ca884517\n",
      "[2020-04-24 09:16:31,046 INFO] Model config {\n",
      "  \"architectures\": [\n",
      "    \"BertForMaskedLM\"\n",
      "  ],\n",
      "  \"attention_probs_dropout_prob\": 0.1,\n",
      "  \"finetuning_task\": null,\n",
      "  \"hidden_act\": \"gelu\",\n",
      "  \"hidden_dropout_prob\": 0.1,\n",
      "  \"hidden_size\": 768,\n",
      "  \"initializer_range\": 0.02,\n",
      "  \"intermediate_size\": 3072,\n",
      "  \"layer_norm_eps\": 1e-12,\n",
      "  \"max_position_embeddings\": 512,\n",
      "  \"model_type\": \"bert\",\n",
      "  \"num_attention_heads\": 12,\n",
      "  \"num_hidden_layers\": 12,\n",
      "  \"num_labels\": 2,\n",
      "  \"output_attentions\": false,\n",
      "  \"output_hidden_states\": false,\n",
      "  \"pad_token_id\": 0,\n",
      "  \"pruned_heads\": {},\n",
      "  \"torchscript\": false,\n",
      "  \"type_vocab_size\": 2,\n",
      "  \"vocab_size\": 30522\n",
      "}\n",
      "\n",
      "[2020-04-24 09:16:31,465 INFO] loading weights file https://s3.amazonaws.com/models.huggingface.co/bert/bert-base-uncased-pytorch_model.bin from cache at ../temp/aa1ef1aede4482d0dbcd4d52baad8ae300e60902e88fcb0bebdec09afd232066.36ca03ab34a1a5d5fa7bc3d03d55c4fa650fed07220e2eeebc06ce58d0e9a157\n",
      "gpu_rank 0\n",
      "[2020-04-24 09:16:33,591 INFO] * number of parameters: 120512513\n",
      "[2020-04-24 09:16:33,983 INFO] loading vocabulary file https://s3.amazonaws.com/models.huggingface.co/bert/bert-base-uncased-vocab.txt from cache at /Users/jim.crotinger/.cache/torch/pytorch_transformers/26bc1ad6c0ac742e9b52263248f6d0f00068293b33709fae12320c0e35ccfbbb.542ce4285a40d23a559526243235df47c5f75c197f04f37d1a0c124c32c9a084\n",
      "100%|█████████████████████████████████████████████| 2/2 [00:01<00:00,  1.58it/s]\n",
      "[2020-04-24 09:16:35,347 INFO] Validation xent: 0 at step -1\n"
     ]
    }
   ],
   "source": [
    "!python train.py -task {task} -mode {mode} -text_src {text_source} -test_from {test_from} -log_file {log_file} -result_path {result_path} # {std_args}"
   ]
  },
  {
   "cell_type": "code",
   "execution_count": 14,
   "metadata": {
    "ExecuteTime": {
     "end_time": "2020-04-24T16:16:35.794112Z",
     "start_time": "2020-04-24T16:16:35.768786Z"
    }
   },
   "outputs": [
    {
     "name": "stdout",
     "output_type": "stream",
     "text": [
      "this Terry Jones had a love of the absurd that contributed much to the anarchic humour of Monty Python's Flying Circus.<q>His style of visual comedy, leavened with a touch of the surreal, inspired many comedians who followed him.<q>A keen historian, he wrote a number of books and fronted TV documentaries on ancient and medieval history.\n",
      "\n",
      "\n",
      "(CNN) An Iranian chess referee says she is frightened to return home after she was criticized online for not wearing the appropriate headscarf during an international tournament.<q>Currently the chief adjudicator at the Women's World Chess Championship held in Russia and China, Shohreh Bayat says she fears arrest after a photograph of her was taken during the event and was then circulated online in Iran.<q>The headscarf, or the hijab, has been a mandatory part of women's dress in Iran since the 1979 Islamic revolution but, in recent years, some women have mounted opposition and staged protests about headwear rules.\n",
      "\n",
      "\n"
     ]
    }
   ],
   "source": [
    "results = !cat ../results/temp_ext.raw_step-1.candidate\n",
    "\n",
    "for line in results:\n",
    "    print(line + '\\n\\n')"
   ]
  },
  {
   "cell_type": "markdown",
   "metadata": {},
   "source": [
    "## Run One-Sentence Summary on test file"
   ]
  },
  {
   "cell_type": "code",
   "execution_count": 15,
   "metadata": {
    "ExecuteTime": {
     "end_time": "2020-04-24T16:16:35.800260Z",
     "start_time": "2020-04-24T16:16:35.796324Z"
    }
   },
   "outputs": [],
   "source": [
    "mode = \"test_text\"\n",
    "task = \"abs\"\n",
    "test_from = \"../models/XSUM_OneSentence/model_step_30000.pt\"\n",
    "\n",
    "# I've added a couple of stories to the test stories that are checked in. You can change these to just use `temp.raw_src` instead.\n",
    "\n",
    "text_source = \"../raw_data/test_stories\"\n",
    "result_path = \"../results/test_stories.one_sent\"\n",
    "\n",
    "log_file = \"../logs/val_abs_bert_raw_test\"\n"
   ]
  },
  {
   "cell_type": "code",
   "execution_count": 16,
   "metadata": {
    "ExecuteTime": {
     "end_time": "2020-04-24T16:16:56.029152Z",
     "start_time": "2020-04-24T16:16:35.802297Z"
    }
   },
   "outputs": [
    {
     "name": "stdout",
     "output_type": "stream",
     "text": [
      "[2020-04-24 09:16:36,661 INFO] Loading checkpoint from ../models/XSUM_OneSentence/model_step_30000.pt\n",
      "Namespace(accum_count=1, alpha=0.6, batch_size=140, beam_size=5, bert_data_path='../bert_data_new/cnndm', beta1=0.9, beta2=0.999, block_trigram=True, dec_dropout=0.2, dec_ff_size=2048, dec_heads=8, dec_hidden_size=768, dec_layers=6, enc_dropout=0.2, enc_ff_size=512, enc_hidden_size=512, enc_layers=6, encoder='bert', ext_dropout=0.2, ext_ff_size=2048, ext_heads=8, ext_hidden_size=768, ext_layers=2, finetune_bert=True, generator_shard_size=32, gpu_ranks=[0], label_smoothing=0.1, large=False, load_from_extractive='', log_file='../logs/val_abs_bert_raw_test', lr=1, lr_bert=0.002, lr_dec=0.002, max_grad_norm=0, max_length=150, max_ndocs_in_batch=6, max_pos=512, max_tgt_len=140, min_length=15, mode='test_text', model_path='../models/', optim='adam', param_init=0, param_init_glorot=True, recall_eval=False, report_every=1, report_rouge=True, result_path='../results/test_stories.one_sent', save_checkpoint_steps=5, seed=666, sep_optim=False, share_emb=False, task='abs', temp_dir='../temp', test_all=False, test_batch_size=200, test_from='../models/XSUM_OneSentence/model_step_30000.pt', test_start_from=-1, text_src='../raw_data/test_stories', text_tgt='', train_from='', train_steps=1000, use_bert_emb=False, use_interval=True, visible_gpus='-1', warmup_steps=8000, warmup_steps_bert=8000, warmup_steps_dec=8000, world_size=1)\n",
      "[2020-04-24 09:16:38,729 INFO] loading configuration file https://s3.amazonaws.com/models.huggingface.co/bert/bert-base-uncased-config.json from cache at ../temp/4dad0251492946e18ac39290fcfe91b89d370fee250efe9521476438fe8ca185.7156163d5fdc189c3016baca0775ffce230789d7fa2a42ef516483e4ca884517\n",
      "[2020-04-24 09:16:38,729 INFO] Model config {\n",
      "  \"architectures\": [\n",
      "    \"BertForMaskedLM\"\n",
      "  ],\n",
      "  \"attention_probs_dropout_prob\": 0.1,\n",
      "  \"finetuning_task\": null,\n",
      "  \"hidden_act\": \"gelu\",\n",
      "  \"hidden_dropout_prob\": 0.1,\n",
      "  \"hidden_size\": 768,\n",
      "  \"initializer_range\": 0.02,\n",
      "  \"intermediate_size\": 3072,\n",
      "  \"layer_norm_eps\": 1e-12,\n",
      "  \"max_position_embeddings\": 512,\n",
      "  \"model_type\": \"bert\",\n",
      "  \"num_attention_heads\": 12,\n",
      "  \"num_hidden_layers\": 12,\n",
      "  \"num_labels\": 2,\n",
      "  \"output_attentions\": false,\n",
      "  \"output_hidden_states\": false,\n",
      "  \"pad_token_id\": 0,\n",
      "  \"pruned_heads\": {},\n",
      "  \"torchscript\": false,\n",
      "  \"type_vocab_size\": 2,\n",
      "  \"vocab_size\": 30522\n",
      "}\n",
      "\n",
      "[2020-04-24 09:16:39,133 INFO] loading weights file https://s3.amazonaws.com/models.huggingface.co/bert/bert-base-uncased-pytorch_model.bin from cache at ../temp/aa1ef1aede4482d0dbcd4d52baad8ae300e60902e88fcb0bebdec09afd232066.36ca03ab34a1a5d5fa7bc3d03d55c4fa650fed07220e2eeebc06ce58d0e9a157\n",
      "[2020-04-24 09:16:44,055 INFO] loading file https://s3.amazonaws.com/models.huggingface.co/bert/bert-base-uncased-vocab.txt from cache at ../temp/26bc1ad6c0ac742e9b52263248f6d0f00068293b33709fae12320c0e35ccfbbb.542ce4285a40d23a559526243235df47c5f75c197f04f37d1a0c124c32c9a084\n",
      "[2020-04-24 09:16:44,556 INFO] loading vocabulary file https://s3.amazonaws.com/models.huggingface.co/bert/bert-base-uncased-vocab.txt from cache at /Users/jim.crotinger/.cache/torch/pytorch_transformers/26bc1ad6c0ac742e9b52263248f6d0f00068293b33709fae12320c0e35ccfbbb.542ce4285a40d23a559526243235df47c5f75c197f04f37d1a0c124c32c9a084\n",
      "100%|█████████████████████████████████████████████| 4/4 [00:10<00:00,  2.70s/it]\n"
     ]
    }
   ],
   "source": [
    "!python train.py -task {task} -mode {mode} -text_src {text_source} -test_from {test_from} -log_file {log_file} -result_path {result_path} # {std_args}"
   ]
  },
  {
   "cell_type": "code",
   "execution_count": 17,
   "metadata": {
    "ExecuteTime": {
     "end_time": "2020-04-24T16:16:56.054491Z",
     "start_time": "2020-04-24T16:16:56.032422Z"
    }
   },
   "outputs": [
    {
     "name": "stdout",
     "output_type": "stream",
     "text": [
      "terry jones , who was born in the english channel in the early hours of sunday morning , was a welsh student who wanted to leave the country for the first time .\n",
      "\n",
      "\n",
      "in the latest series of fights in iran , millions of people have been protesting against the so-called islamic state -lrb- is -rrb- .\n",
      "\n",
      "\n",
      "the price of bitcoin and other exchanges has fallen below the new low level .\n",
      "\n",
      "\n",
      "the head of the us federal reserve has given his first official statement since the us central bank cut interest rates last month .\n",
      "\n",
      "\n"
     ]
    }
   ],
   "source": [
    "results = !cat ../results/test_stories.one_sent.-1.candidate\n",
    "for line in results:\n",
    "    print(line + '\\n\\n')"
   ]
  },
  {
   "cell_type": "code",
   "execution_count": null,
   "metadata": {},
   "outputs": [],
   "source": []
  }
 ],
 "metadata": {
  "kernelspec": {
   "display_name": "Python 3",
   "language": "python",
   "name": "python3"
  },
  "language_info": {
   "codemirror_mode": {
    "name": "ipython",
    "version": 3
   },
   "file_extension": ".py",
   "mimetype": "text/x-python",
   "name": "python",
   "nbconvert_exporter": "python",
   "pygments_lexer": "ipython3",
   "version": "3.6.10"
  },
  "toc": {
   "base_numbering": 1,
   "nav_menu": {},
   "number_sections": false,
   "sideBar": true,
   "skip_h1_title": false,
   "title_cell": "Table of Contents",
   "title_sidebar": "Contents",
   "toc_cell": false,
   "toc_position": {},
   "toc_section_display": true,
   "toc_window_display": false
  }
 },
 "nbformat": 4,
 "nbformat_minor": 4
}
